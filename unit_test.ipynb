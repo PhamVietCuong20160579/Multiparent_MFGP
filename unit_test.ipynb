{
 "cells": [
  {
   "cell_type": "code",
   "execution_count": 1,
   "id": "90a93d9e",
   "metadata": {
    "tags": []
   },
   "outputs": [],
   "source": [
    "from mtsoo import *\n",
    "from slgep_lib.chromosome import *\n",
    "import numpy as np\n",
    "from copy import deepcopy\n"
   ]
  },
  {
   "cell_type": "code",
   "execution_count": 2,
   "id": "4b803777",
   "metadata": {},
   "outputs": [
    {
     "data": {
      "text/plain": [
       "array([11,  3,  5,  9,  6, 16, 16, 17, 16, 15, 15,  4,  2,  0,  3,  0, 15,\n",
       "       17, 16, 15, 16, 15,  3,  4,  7, 12, 13, 13, 13,  0,  0,  3, 13, 12,\n",
       "       13, 13,  1,  3,  5, 12, 13, 12, 12,  2,  1,  5, 13, 13, 12, 13],\n",
       "      dtype=int32)"
      ]
     },
     "execution_count": 2,
     "metadata": {},
     "output_type": "execute_result"
    }
   ],
   "source": [
    "names = ['CartPole-v1','CartPole-v1']\n",
    "envs = GymTaskSet(names)\n",
    "\n",
    "max_arity = 2\n",
    "h_main = 5\n",
    "h_adf = 3\n",
    "no_terminal = 4\n",
    "no_main = 2\n",
    "no_adf = 4\n",
    "no_pop = 10\n",
    "T = 2\n",
    "pop = Slgep_pop(no_adf, no_terminal, no_main,h_main, max_arity, h_adf, no_pop, T)\n",
    "pop.pop[0].gene"
   ]
  },
  {
   "cell_type": "code",
   "execution_count": 3,
   "id": "a3e38026",
   "metadata": {},
   "outputs": [],
   "source": [
    "gene = Chromosome(no_adf, no_terminal, no_main,h_main, max_arity, h_adf, T)"
   ]
  },
  {
   "cell_type": "code",
   "execution_count": 4,
   "id": "bd758917",
   "metadata": {},
   "outputs": [
    {
     "data": {
      "text/plain": [
       "ChromosomeRange(R1=8, R2=12, R3=14, R4=18)"
      ]
     },
     "execution_count": 4,
     "metadata": {},
     "output_type": "execute_result"
    }
   ],
   "source": [
    "gene.chromosome_range"
   ]
  },
  {
   "cell_type": "code",
   "execution_count": 5,
   "id": "e9adec94",
   "metadata": {},
   "outputs": [],
   "source": [
    "symbol_list = gene.function_set + gene.adf_set + gene.adf_terminal_set + gene.terminal_set"
   ]
  },
  {
   "cell_type": "code",
   "execution_count": 6,
   "id": "68ccfd6b",
   "metadata": {},
   "outputs": [
    {
     "name": "stdout",
     "output_type": "stream",
     "text": [
      "0 is false\n"
     ]
    }
   ],
   "source": [
    "if 0:\n",
    "    print(\"0 is true\")\n",
    "else :\n",
    "    print (\"0 is false\")"
   ]
  },
  {
   "cell_type": "code",
   "execution_count": 7,
   "id": "47bbbf44",
   "metadata": {},
   "outputs": [
    {
     "data": {
      "text/plain": [
       "[array([-26.,  inf]),\n",
       " array([-30.,  inf]),\n",
       " array([-14.,  inf]),\n",
       " array([ inf, -53.]),\n",
       " array([ inf, -50.]),\n",
       " array([-9., inf]),\n",
       " array([-21.,  inf]),\n",
       " array([ inf, -33.]),\n",
       " array([inf, -9.]),\n",
       " array([-10.,  inf])]"
      ]
     },
     "execution_count": 7,
     "metadata": {},
     "output_type": "execute_result"
    }
   ],
   "source": [
    "no_pop = len(pop.pop)\n",
    "fc = []\n",
    "for i in range(no_pop):\n",
    "    agent = pop.pop[i]\n",
    "    sf = agent.sf\n",
    "    result = envs.run_env(sf, agent)\n",
    "    agent.factorial_cost[sf] = result\n",
    "    fc.append(agent.factorial_cost)\n",
    "fc"
   ]
  },
  {
   "cell_type": "code",
   "execution_count": 10,
   "id": "b747a62a",
   "metadata": {},
   "outputs": [
    {
     "data": {
      "text/plain": [
       "array([[ 1,  5],\n",
       "       [ 3,  6],\n",
       "       [ 2,  7],\n",
       "       [ 7,  4],\n",
       "       [ 4,  8],\n",
       "       [ 8,  1],\n",
       "       [ 6,  9],\n",
       "       [ 5, 10],\n",
       "       [ 9,  2],\n",
       "       [10,  3]])"
      ]
     },
     "execution_count": 10,
     "metadata": {},
     "output_type": "execute_result"
    }
   ],
   "source": [
    "np.argsort(np.argsort(fc, axis=0), axis=0) + 1"
   ]
  },
  {
   "cell_type": "code",
   "execution_count": 9,
   "id": "84dd60fb",
   "metadata": {},
   "outputs": [
    {
     "data": {
      "text/plain": [
       "array([1, 3, 2, 4, 4, 1, 6, 5, 2, 3])"
      ]
     },
     "execution_count": 9,
     "metadata": {},
     "output_type": "execute_result"
    }
   ],
   "source": [
    "np.min(np.argsort(np.argsort(fc, axis=0), axis=0) + 1, axis=1)"
   ]
  },
  {
   "cell_type": "code",
   "execution_count": 12,
   "id": "5657b420",
   "metadata": {},
   "outputs": [
    {
     "data": {
      "text/plain": [
       "array([1.        , 0.33333333, 0.5       , 0.25      , 0.25      ,\n",
       "       1.        , 0.16666667, 0.2       , 0.5       , 0.33333333])"
      ]
     },
     "execution_count": 12,
     "metadata": {},
     "output_type": "execute_result"
    }
   ],
   "source": [
    "s_fitness = 1 / np.min(np.argsort(np.argsort(fc, axis=0), axis=0) + 1, axis=1)\n",
    "s_fitness"
   ]
  },
  {
   "cell_type": "code",
   "execution_count": null,
   "id": "7c0b737a",
   "metadata": {},
   "outputs": [],
   "source": []
  },
  {
   "cell_type": "code",
   "execution_count": null,
   "id": "f25941a3",
   "metadata": {},
   "outputs": [],
   "source": []
  },
  {
   "cell_type": "code",
   "execution_count": 16,
   "id": "8980183d",
   "metadata": {
    "tags": []
   },
   "outputs": [
    {
     "name": "stdout",
     "output_type": "stream",
     "text": [
      "[-65.  inf]\n",
      "[-10.  inf]\n",
      "[-26.  inf]\n",
      "[inf -9.]\n",
      "[-10.  inf]\n",
      "[ inf -12.]\n",
      "[-9. inf]\n",
      "[-10.  inf]\n",
      "[ inf -12.]\n",
      "[ inf -10.]\n"
     ]
    }
   ],
   "source": [
    "for i in range(no_pop):\n",
    "    print(pop.pop[i].factorial_cost)"
   ]
  },
  {
   "cell_type": "code",
   "execution_count": 17,
   "id": "6935c944",
   "metadata": {},
   "outputs": [
    {
     "name": "stdout",
     "output_type": "stream",
     "text": [
      "1.0\n",
      "0.3333333333333333\n",
      "0.5\n",
      "0.25\n",
      "0.25\n",
      "1.0\n",
      "0.16666666666666666\n",
      "0.2\n",
      "0.5\n",
      "0.3333333333333333\n"
     ]
    }
   ],
   "source": [
    "for i in range(no_pop):\n",
    "    print(pop.pop[i].scalar_fitness)"
   ]
  },
  {
   "cell_type": "code",
   "execution_count": 15,
   "id": "a7687bf6",
   "metadata": {},
   "outputs": [],
   "source": [
    "pop.evaluate(envs)"
   ]
  },
  {
   "cell_type": "code",
   "execution_count": 18,
   "id": "ea646da3",
   "metadata": {},
   "outputs": [],
   "source": [
    "pop.sort()"
   ]
  },
  {
   "cell_type": "code",
   "execution_count": 19,
   "id": "b6fbdae8",
   "metadata": {},
   "outputs": [
    {
     "name": "stdout",
     "output_type": "stream",
     "text": [
      "[-65.  inf]\n",
      "[ inf -12.]\n",
      "[-26.  inf]\n",
      "[ inf -12.]\n",
      "[-10.  inf]\n",
      "[ inf -10.]\n",
      "[inf -9.]\n",
      "[-10.  inf]\n",
      "[-10.  inf]\n",
      "[-9. inf]\n"
     ]
    }
   ],
   "source": [
    "for i in range(no_pop):\n",
    "    print(pop.pop[i].factorial_cost)"
   ]
  },
  {
   "cell_type": "code",
   "execution_count": 20,
   "id": "274867ed",
   "metadata": {},
   "outputs": [
    {
     "name": "stdout",
     "output_type": "stream",
     "text": [
      "1.0\n",
      "1.0\n",
      "0.5\n",
      "0.5\n",
      "0.3333333333333333\n",
      "0.3333333333333333\n",
      "0.25\n",
      "0.25\n",
      "0.2\n",
      "0.16666666666666666\n"
     ]
    }
   ],
   "source": [
    "for i in range(no_pop):\n",
    "    print(pop.pop[i].scalar_fitness)"
   ]
  },
  {
   "cell_type": "code",
   "execution_count": 67,
   "id": "a7828a79",
   "metadata": {},
   "outputs": [],
   "source": [
    "pop.permute()"
   ]
  },
  {
   "cell_type": "code",
   "execution_count": 20,
   "id": "d0272057",
   "metadata": {},
   "outputs": [
    {
     "data": {
      "text/plain": [
       "50"
      ]
     },
     "execution_count": 20,
     "metadata": {},
     "output_type": "execute_result"
    }
   ],
   "source": [
    "subpops = pop._get_subpops()\n",
    "subpop = subpops[0]\n",
    "subpop[0].D"
   ]
  },
  {
   "cell_type": "code",
   "execution_count": 21,
   "id": "8019ce8a",
   "metadata": {},
   "outputs": [],
   "source": [
    "test = pop.learn_rmp()"
   ]
  },
  {
   "cell_type": "code",
   "execution_count": 22,
   "id": "7662d6fe",
   "metadata": {},
   "outputs": [
    {
     "data": {
      "text/plain": [
       "array([0.53415073, 0.12109041, 0.46947723, 0.33498433, 0.86394847,\n",
       "       0.60137323])"
      ]
     },
     "execution_count": 22,
     "metadata": {},
     "output_type": "execute_result"
    }
   ],
   "source": [
    "a = np.random.rand(2,6)\n",
    "np.mean(a, axis=0)"
   ]
  },
  {
   "cell_type": "code",
   "execution_count": 23,
   "id": "6f52aa33",
   "metadata": {},
   "outputs": [
    {
     "data": {
      "text/plain": [
       "array([ 5, 10,  8,  3,  5,  7,  2], dtype=int32)"
      ]
     },
     "execution_count": 23,
     "metadata": {},
     "output_type": "execute_result"
    }
   ],
   "source": [
    "subgene = np.array([p.gene for p in subpop])\n",
    "subgene[:,0]"
   ]
  },
  {
   "cell_type": "code",
   "execution_count": 24,
   "id": "707565a3",
   "metadata": {},
   "outputs": [
    {
     "data": {
      "text/plain": [
       "array([5.39909665e-02, 9.13472041e-12, 1.48671951e-06, 3.98942280e-01,\n",
       "       5.39909665e-02, 1.33830226e-04, 2.41970725e-01])"
      ]
     },
     "execution_count": 24,
     "metadata": {},
     "output_type": "execute_result"
    }
   ],
   "source": [
    "norm.pdf(subgene[:,0], loc = 3, scale = 1)"
   ]
  },
  {
   "cell_type": "code",
   "execution_count": 25,
   "id": "b7df110a",
   "metadata": {},
   "outputs": [
    {
     "data": {
      "text/plain": [
       "array([[1., 0.],\n",
       "       [0., 1.]])"
      ]
     },
     "execution_count": 25,
     "metadata": {},
     "output_type": "execute_result"
    }
   ],
   "source": [
    "test"
   ]
  },
  {
   "cell_type": "code",
   "execution_count": 50,
   "id": "3717feb5",
   "metadata": {},
   "outputs": [
    {
     "data": {
      "text/plain": [
       "[<slgep_lib.chromosome.Chromosome at 0x7f3a62191490>,\n",
       " <slgep_lib.chromosome.Chromosome at 0x7f3a62191550>]"
      ]
     },
     "execution_count": 50,
     "metadata": {},
     "output_type": "execute_result"
    }
   ],
   "source": [
    "pl = np.arange(1,1+3)\n",
    "parent = [pop.pop[i] for i in pl]\n",
    "parent[1:4]"
   ]
  },
  {
   "cell_type": "code",
   "execution_count": 52,
   "id": "c7e1cd35",
   "metadata": {},
   "outputs": [],
   "source": [
    "N= 10\n",
    "K=2\n",
    "skill_factor = np.array([i % K for i in range(2 * N)])"
   ]
  },
  {
   "cell_type": "code",
   "execution_count": 56,
   "id": "c72e51ec",
   "metadata": {},
   "outputs": [
    {
     "data": {
      "text/plain": [
       "(array([ 1,  3,  5,  7,  9, 11, 13, 15, 17, 19]),)"
      ]
     },
     "execution_count": 56,
     "metadata": {},
     "output_type": "execute_result"
    }
   ],
   "source": [
    "np.where(skill_factor ==1)"
   ]
  },
  {
   "cell_type": "code",
   "execution_count": 57,
   "id": "f50f883d",
   "metadata": {},
   "outputs": [
    {
     "data": {
      "text/plain": [
       "4"
      ]
     },
     "execution_count": 57,
     "metadata": {},
     "output_type": "execute_result"
    }
   ],
   "source": [
    "np.argmax([2,3,1,4,5])"
   ]
  },
  {
   "cell_type": "code",
   "execution_count": 69,
   "id": "55053696",
   "metadata": {},
   "outputs": [
    {
     "data": {
      "text/plain": [
       "(1, <slgep_lib.chromosome.Chromosome at 0x7f3a62191580>)"
      ]
     },
     "execution_count": 69,
     "metadata": {},
     "output_type": "execute_result"
    }
   ],
   "source": [
    "top = max(enumerate(pop.pop), key = lambda x:x[1].scalar_fitness)\n",
    "top"
   ]
  },
  {
   "cell_type": "code",
   "execution_count": 21,
   "id": "2419e875",
   "metadata": {},
   "outputs": [
    {
     "data": {
      "text/plain": [
       "array([ 4,  0,  7, 10,  7, 16, 14, 15, 14, 16, 15,  4,  2,  8, 11,  2, 14,\n",
       "       17, 14, 17, 15, 16,  2,  4,  0, 12, 12, 13], dtype=int32)"
      ]
     },
     "execution_count": 21,
     "metadata": {},
     "output_type": "execute_result"
    }
   ],
   "source": [
    "p1 = pop.pop[1]\n",
    "p2 = pop.pop[2]\n",
    "x = np.random.randint(0,p1.D)\n",
    "p1.gene[0:x]"
   ]
  },
  {
   "cell_type": "code",
   "execution_count": 31,
   "id": "c80ba47e",
   "metadata": {},
   "outputs": [
    {
     "data": {
      "text/plain": [
       "4"
      ]
     },
     "execution_count": 31,
     "metadata": {},
     "output_type": "execute_result"
    }
   ],
   "source": [
    "no_terminal = envs.envs[0].reset().shape[0]\n",
    "no_terminal"
   ]
  },
  {
   "cell_type": "code",
   "execution_count": 22,
   "id": "65b7fc53",
   "metadata": {},
   "outputs": [
    {
     "data": {
      "text/plain": [
       "(<slgep_lib.chromosome.Chromosome at 0x7f9fb4f517f0>, -65.0)"
      ]
     },
     "execution_count": 22,
     "metadata": {},
     "output_type": "execute_result"
    }
   ],
   "source": [
    "pop._get_best_individual_of_task(0)"
   ]
  },
  {
   "cell_type": "code",
   "execution_count": 9,
   "id": "cb96bdb7",
   "metadata": {},
   "outputs": [],
   "source": [
    "x = pop.pop[2]\n",
    "best, _ = pop._get_best_individual_of_task(x.sf)\n",
    "a, b = np.random.choice(pop.pop, 2)"
   ]
  },
  {
   "cell_type": "code",
   "execution_count": 39,
   "id": "b42d7567",
   "metadata": {},
   "outputs": [
    {
     "data": {
      "text/plain": [
       "array([1., 1., 1., 1., 1., 0., 0., 0., 1., 0., 1., 1., 1., 0., 0., 1., 1.,\n",
       "       1., 1., 1., 0., 1., 1., 1., 1., 1., 1., 1., 0., 1., 1., 1., 0., 1.,\n",
       "       0., 1., 1., 1., 1., 1., 1., 1., 1., 1., 1., 1., 1., 0., 0., 1.])"
      ]
     },
     "execution_count": 39,
     "metadata": {},
     "output_type": "execute_result"
    }
   ],
   "source": [
    "vp = np.ones(x.D)\n",
    "vp[np.where(x.gene == best.gene)] = 0\n",
    "vp"
   ]
  },
  {
   "cell_type": "code",
   "execution_count": 41,
   "id": "e429119a",
   "metadata": {},
   "outputs": [
    {
     "data": {
      "text/plain": [
       "array([0., 0., 0., 0., 0., 0., 0., 0., 0., 0., 0., 0.])"
      ]
     },
     "execution_count": 41,
     "metadata": {},
     "output_type": "execute_result"
    }
   ],
   "source": [
    "l = []\n",
    "m = []\n",
    "for i in range(x.D):\n",
    "    if x.gene[i]==best.gene[i]:\n",
    "        l.append(i)\n",
    "for i in range(x.D):\n",
    "    if x.gene[i]!=best.gene[i]:\n",
    "        m.append(i)\n"
   ]
  },
  {
   "cell_type": "code",
   "execution_count": 42,
   "id": "7f94d791",
   "metadata": {},
   "outputs": [
    {
     "data": {
      "text/plain": [
       "array([1., 1., 1., 1., 1., 1., 1., 1., 1., 1., 1., 1., 1., 1., 1., 1., 1.,\n",
       "       1., 1., 1., 1., 1., 1., 1., 1., 1., 1., 1., 1., 1., 1., 1., 1., 1.,\n",
       "       1., 1., 1., 1.])"
      ]
     },
     "execution_count": 42,
     "metadata": {},
     "output_type": "execute_result"
    }
   ],
   "source": [
    "vp[m]"
   ]
  },
  {
   "cell_type": "code",
   "execution_count": 43,
   "id": "4cdfa048",
   "metadata": {},
   "outputs": [
    {
     "data": {
      "text/plain": [
       "array([0., 0., 0., 0., 0., 0., 0., 0., 0., 0., 0., 0.])"
      ]
     },
     "execution_count": 43,
     "metadata": {},
     "output_type": "execute_result"
    }
   ],
   "source": [
    "vp[l]"
   ]
  },
  {
   "cell_type": "code",
   "execution_count": 11,
   "id": "ebabfd46",
   "metadata": {},
   "outputs": [
    {
     "name": "stdout",
     "output_type": "stream",
     "text": [
      "[-14.  inf]\n",
      "[-10.  inf]\n",
      "[-10.  inf]\n",
      "[-12.  inf]\n",
      "[-10.  inf]\n",
      "[-17.  inf]\n",
      "[-10.  inf]\n",
      "[ inf -62.]\n",
      "[-9. inf]\n",
      "[-10.  inf]\n"
     ]
    }
   ],
   "source": [
    "for p in pop.pop:\n",
    "    print(p.factorial_cost)"
   ]
  },
  {
   "cell_type": "code",
   "execution_count": 8,
   "id": "fab2d196",
   "metadata": {},
   "outputs": [],
   "source": [
    "pop.permute()"
   ]
  },
  {
   "cell_type": "code",
   "execution_count": 47,
   "id": "6de8edda",
   "metadata": {},
   "outputs": [
    {
     "name": "stdout",
     "output_type": "stream",
     "text": [
      "is false\n"
     ]
    }
   ],
   "source": [
    "if []:\n",
    "    print('is true')\n",
    "else:\n",
    "    print('is false')"
   ]
  },
  {
   "cell_type": "code",
   "execution_count": 43,
   "id": "5f1742cb",
   "metadata": {},
   "outputs": [
    {
     "data": {
      "text/plain": [
       "(1, 3)"
      ]
     },
     "execution_count": 43,
     "metadata": {},
     "output_type": "execute_result"
    }
   ],
   "source": [
    "a.shape"
   ]
  },
  {
   "cell_type": "code",
   "execution_count": null,
   "id": "1e6400aa",
   "metadata": {},
   "outputs": [],
   "source": [
    "def one_point_crossover_adf(self, pa, pb):\n",
    "    D = len(pa)\n",
    "    i = np.random.randint(low=1, high=D-1)\n",
    "    low, high = self._get_crossover_range(i)\n",
    "    ca = deepcopy(pa)\n",
    "    cb = deepcopy(pa)\n",
    "    if np.random.rand() < 0.5:\n",
    "        ca[low:i] = pb[low:i]\n",
    "        cb[low:i] = pa[low:i]\n",
    "    else:\n",
    "        ca[i:high] = pb[i:high]\n",
    "        cb[i:high] = pa[i:high]\n",
    "    return ca, cb\n"
   ]
  },
  {
   "cell_type": "code",
   "execution_count": null,
   "id": "d16b5ff4",
   "metadata": {},
   "outputs": [],
   "source": [
    "def one_point_crossover_adf_multitask(self, pa, pb):\n",
    "    D = len(pa)\n",
    "    config = self.config\n",
    "    low = config['num_main'] * (config['h_main'] + config['l_main'])\n",
    "    i = np.random.randint(low=low + 1, high=D-1)\n",
    "    low, high = self._get_crossover_range(i)\n",
    "    ca = deepcopy(pa)\n",
    "    cb = deepcopy(pa)\n",
    "    if np.random.rand() < 0.5:\n",
    "        ca[low:i] = pb[low:i]\n",
    "        cb[low:i] = pa[low:i]\n",
    "    else:\n",
    "        ca[i:high] = pb[i:high]\n",
    "        cb[i:high] = pa[i:high]\n",
    "    return ca, cb"
   ]
  },
  {
   "cell_type": "code",
   "execution_count": null,
   "id": "6d373fd1",
   "metadata": {},
   "outputs": [],
   "source": []
  },
  {
   "cell_type": "code",
   "execution_count": 7,
   "id": "975afff3",
   "metadata": {},
   "outputs": [
    {
     "data": {
      "text/plain": [
       "array([ 4, 10,  8,  1,  0, 14, 16, 16, 16, 16, 14,  0,  1,  3, 10, 10, 17,\n",
       "       16, 17, 17, 14, 17,  1,  0,  4, 12, 12, 12, 12,  5,  2,  3, 13, 12,\n",
       "       12, 13,  7,  0,  2, 12, 13, 12, 13,  1,  2,  6, 12, 13, 12, 12],\n",
       "      dtype=int32)"
      ]
     },
     "execution_count": 7,
     "metadata": {},
     "output_type": "execute_result"
    }
   ],
   "source": [
    "a = pop.pop[0]\n",
    "a.gene"
   ]
  },
  {
   "cell_type": "code",
   "execution_count": 8,
   "id": "623b847c",
   "metadata": {},
   "outputs": [
    {
     "data": {
      "text/plain": [
       "<slgep_lib.chromosome.Chromosome at 0x7f3832027280>"
      ]
     },
     "execution_count": 8,
     "metadata": {},
     "output_type": "execute_result"
    }
   ],
   "source": [
    "pop.frequency_based_mutation(a,0.1)"
   ]
  },
  {
   "cell_type": "code",
   "execution_count": 9,
   "id": "f940098b",
   "metadata": {},
   "outputs": [
    {
     "data": {
      "text/plain": [
       "50"
      ]
     },
     "execution_count": 9,
     "metadata": {},
     "output_type": "execute_result"
    }
   ],
   "source": [
    "pop.pop[0].D"
   ]
  },
  {
   "cell_type": "code",
   "execution_count": 8,
   "id": "554a43cc",
   "metadata": {},
   "outputs": [
    {
     "data": {
      "text/plain": [
       "10"
      ]
     },
     "execution_count": 8,
     "metadata": {},
     "output_type": "execute_result"
    }
   ],
   "source": [
    "1 + 1+ 1 +1 +2 +2 +2"
   ]
  },
  {
   "cell_type": "code",
   "execution_count": 53,
   "id": "0d154757",
   "metadata": {},
   "outputs": [
    {
     "data": {
      "text/plain": [
       "array([1., 2., 3., 4., 0., 0.])"
      ]
     },
     "execution_count": 53,
     "metadata": {},
     "output_type": "execute_result"
    }
   ],
   "source": [
    "a = np.array([1,2,3,4])\n",
    "np.hstack([a, np.zeros(2)])"
   ]
  },
  {
   "cell_type": "code",
   "execution_count": 8,
   "id": "e54139ce",
   "metadata": {},
   "outputs": [],
   "source": [
    "x = pop.pop[0]\n",
    "y = pop.pop[1]\n",
    "z = pop.pop[2]\n",
    "b1 = b2 = b3 = 0.5\n",
    "m = deepcopy(x)\n",
    "n = deepcopy(y)\n",
    "p = deepcopy(z)\n"
   ]
  },
  {
   "cell_type": "code",
   "execution_count": 9,
   "id": "d7b9631e",
   "metadata": {},
   "outputs": [
    {
     "name": "stdout",
     "output_type": "stream",
     "text": [
      "[11  3  5  9  6 16 16 17 16 15 15  4  2  0  3  0 15 17 16 15 16 15  3  4\n",
      "  7 12 13 13 13  0  0  3 13 12 13 13  1  3  5 12 13 12 12  2  1  5 13 13\n",
      " 12 13]\n",
      "[ 0  5  4  4  9 14 16 15 15 16 17  2  4  3  5  0 15 14 14 14 14 17  3  4\n",
      "  7 12 13 13 12  3  6  4 12 13 13 13  4  0  3 13 13 12 13  5  2  3 13 13\n",
      " 12 12]\n",
      "[ 6  3  9 10  7 14 14 16 16 16 16 11  5  0 11  0 17 17 17 14 14 14  1  3\n",
      "  3 13 13 12 13  5  4  7 13 13 12 13  5  5  1 13 13 13 13  0  5  7 12 13\n",
      " 13 12]\n"
     ]
    }
   ],
   "source": [
    "print(m.gene)\n",
    "print(n.gene)\n",
    "print(p.gene)"
   ]
  },
  {
   "cell_type": "code",
   "execution_count": 10,
   "id": "75ce895e",
   "metadata": {},
   "outputs": [
    {
     "name": "stdout",
     "output_type": "stream",
     "text": [
      "8\n",
      "7\n",
      "\n",
      "\n",
      "4\n",
      "5\n",
      "\n",
      "\n",
      "2\n",
      "4\n",
      "\n",
      "\n",
      "6\n",
      "6\n",
      "\n",
      "\n",
      "7\n",
      "6\n",
      "\n",
      "\n",
      "16\n",
      "16\n",
      "\n",
      "\n",
      "17\n",
      "16\n",
      "\n",
      "\n",
      "16\n",
      "16\n",
      "\n",
      "\n",
      "15\n",
      "16\n",
      "\n",
      "\n",
      "15\n",
      "16\n",
      "\n",
      "\n",
      "15\n",
      "16\n",
      "\n",
      "\n",
      "0\n",
      "3\n",
      "\n",
      "\n",
      "1\n",
      "4\n",
      "\n",
      "\n",
      "1\n",
      "4\n",
      "\n",
      "\n",
      "0\n",
      "3\n",
      "\n",
      "\n",
      "0\n",
      "3\n",
      "\n",
      "\n",
      "14\n",
      "15\n",
      "\n",
      "\n",
      "15\n",
      "16\n",
      "\n",
      "\n",
      "14\n",
      "15\n",
      "\n",
      "\n",
      "15\n",
      "16\n",
      "\n",
      "\n",
      "16\n",
      "16\n",
      "\n",
      "\n",
      "16\n",
      "16\n",
      "\n",
      "\n",
      "4\n",
      "4\n",
      "\n",
      "\n",
      "4\n",
      "4\n",
      "\n",
      "\n",
      "9\n",
      "6\n",
      "\n",
      "\n",
      "11\n",
      "12\n",
      "\n",
      "\n",
      "13\n",
      "13\n",
      "\n",
      "\n",
      "13\n",
      "13\n",
      "\n",
      "\n",
      "12\n",
      "12\n",
      "\n",
      "\n",
      "-1\n",
      "2\n",
      "\n",
      "\n",
      "1\n",
      "2\n",
      "\n",
      "\n",
      "1\n",
      "2\n",
      "\n",
      "\n",
      "12\n",
      "12\n",
      "\n",
      "\n",
      "12\n",
      "12\n",
      "\n",
      "\n",
      "13\n",
      "13\n",
      "\n",
      "\n",
      "13\n",
      "13\n",
      "\n",
      "\n",
      "0\n",
      "2\n",
      "\n",
      "\n",
      "0\n",
      "2\n",
      "\n",
      "\n",
      "6\n",
      "5\n",
      "\n",
      "\n",
      "12\n",
      "12\n",
      "\n",
      "\n",
      "13\n",
      "13\n",
      "\n",
      "\n",
      "11\n",
      "12\n",
      "\n",
      "\n",
      "12\n",
      "12\n",
      "\n",
      "\n",
      "4\n",
      "4\n",
      "\n",
      "\n",
      "0\n",
      "2\n",
      "\n",
      "\n",
      "3\n",
      "4\n",
      "\n",
      "\n",
      "13\n",
      "13\n",
      "\n",
      "\n",
      "13\n",
      "13\n",
      "\n",
      "\n",
      "11\n",
      "12\n",
      "\n",
      "\n",
      "13\n",
      "13\n",
      "\n",
      "\n"
     ]
    }
   ],
   "source": [
    "for i in range(x.D):\n",
    "    m.gene[i] = x.gene[i] + b1*(y.gene[i]-z.gene[i])\n",
    "    m.gene[i] = m._gene_rescale(i, b1)\n",
    "#     m.gene[i] = y.gene[i] + b2*(z.gene[i]-x.gene[i])\n",
    "#     m.gene[i] = m._gene_rescale(i, b1)\n",
    "    \n",
    "#     m.gene[i] = z.gene[i] + b2*(x.gene[i]-y.gene[i])\n",
    "#     m.gene[i] = m._gene_rescale(i, b1)"
   ]
  },
  {
   "cell_type": "code",
   "execution_count": 70,
   "id": "d1aa72dc",
   "metadata": {},
   "outputs": [
    {
     "name": "stdout",
     "output_type": "stream",
     "text": [
      "[ 8  5  6  7  5 15 15 15 16 15 14  5  1  3  3  3 16 15 16 15 15 14  3  2\n",
      "  6 13 13 12 13  4  4  5 12 12 12 13  2  2  1 13 13 12 13  4  2  3 12 12\n",
      " 12 12]\n",
      "[10  7 11  0  0 17 14 14 17 16 15  9  0  0  1  1 14 14 17 15 15 14  7  1\n",
      "  6 13 13 12 13  1  7  7 13 12 12 12  3  2  0 13 13 13 13  5  1  7 12 12\n",
      " 13 13]\n",
      "[ 6 10  8  0  1 17 17 16 15 15 16  1  9  4  3  3 14 15 15 14 14 17  6  6\n",
      "  1 12 12 12 12  2  3  0 13 12 13 12  7  2  4 13 13 12 12  0  5  4 13 13\n",
      " 12 12]\n"
     ]
    }
   ],
   "source": [
    "print(m.gene)\n",
    "print(n.gene)\n",
    "print(p.gene)"
   ]
  },
  {
   "cell_type": "code",
   "execution_count": null,
   "id": "08e6ac45",
   "metadata": {},
   "outputs": [],
   "source": [
    "OldRange = (OldMax - OldMin)  \n",
    "NewRange = (NewMax - NewMin)  \n",
    "NewValue = (((OldValue - OldMin) * NewRange) / OldRange) + NewMin"
   ]
  }
 ],
 "metadata": {
  "kernelspec": {
   "display_name": "Python 3",
   "language": "python",
   "name": "python3"
  },
  "language_info": {
   "codemirror_mode": {
    "name": "ipython",
    "version": 3
   },
   "file_extension": ".py",
   "mimetype": "text/x-python",
   "name": "python",
   "nbconvert_exporter": "python",
   "pygments_lexer": "ipython3",
   "version": "3.9.2"
  }
 },
 "nbformat": 4,
 "nbformat_minor": 5
}
