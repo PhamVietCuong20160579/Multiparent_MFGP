{
 "cells": [
  {
   "cell_type": "code",
   "execution_count": 1,
   "id": "b162dff7",
   "metadata": {},
   "outputs": [],
   "source": [
    "from mtsoo import *\n",
    "from slgep_lib.chromosome import *\n",
    "import numpy as np\n",
    "from copy import deepcopy\n"
   ]
  },
  {
   "cell_type": "code",
   "execution_count": 2,
   "id": "8822d781",
   "metadata": {},
   "outputs": [
    {
     "data": {
      "text/plain": [
       "[<TimeLimit<CartPoleEnv<CartPole-v1>>>,\n",
       " <custom_gym.envs.cartpole_half_gravity.CartPoleHalfEnv at 0x7f2cf71f6e50>]"
      ]
     },
     "execution_count": 2,
     "metadata": {},
     "output_type": "execute_result"
    }
   ],
   "source": [
    "names = ['CartPole-v1','custom_gym:cartpole-half-gravity-v0']\n",
    "envs = GymTaskSet(names)\n",
    "envs.envs"
   ]
  },
  {
   "cell_type": "code",
   "execution_count": 3,
   "id": "5afbc744",
   "metadata": {},
   "outputs": [],
   "source": [
    "callback = None\n",
    "K = len(envs.envs)                 # number of function\n",
    "N = 4 * K         # population size\n",
    "T = 100            # number of iteration\n",
    "mr = 0.1\n",
    "rmp = 0.3\n",
    "no_par = 3\n",
    "\n",
    "max_arity = 2\n",
    "h_main = 7\n",
    "h_adf = 5\n",
    "no_main = envs.envs[0].action_space.n\n",
    "no_adf = no_main*2\n",
    "no_terminal = envs.envs[0].reset().shape[0]"
   ]
  },
  {
   "cell_type": "code",
   "execution_count": 4,
   "id": "d036e779",
   "metadata": {},
   "outputs": [
    {
     "data": {
      "text/plain": [
       "74"
      ]
     },
     "execution_count": 4,
     "metadata": {},
     "output_type": "execute_result"
    }
   ],
   "source": [
    "population = Slgep_pop(no_adf, no_terminal, no_main,h_main, max_arity, h_adf, no_pop=2*N, no_task=K)\n",
    "D = population.pop[0].D\n",
    "D"
   ]
  },
  {
   "cell_type": "code",
   "execution_count": 5,
   "id": "740fbcac",
   "metadata": {},
   "outputs": [],
   "source": [
    "population.evaluate(envs)"
   ]
  },
  {
   "cell_type": "code",
   "execution_count": 6,
   "id": "219bae21",
   "metadata": {},
   "outputs": [
    {
     "name": "stdout",
     "output_type": "stream",
     "text": [
      "0.16666666666666666\n",
      "0.3333333333333333\n",
      "0.2\n",
      "1.0\n",
      "0.5\n",
      "1.0\n",
      "0.3333333333333333\n",
      "0.25\n",
      "0.16666666666666666\n",
      "0.2\n",
      "0.125\n",
      "0.1111111111111111\n",
      "0.14285714285714285\n",
      "0.14285714285714285\n",
      "0.25\n",
      "0.5\n"
     ]
    }
   ],
   "source": [
    "for i in range(2*N):\n",
    "    print(population.pop[i].scalar_fitness)"
   ]
  },
  {
   "cell_type": "code",
   "execution_count": 7,
   "id": "27a3e9fa",
   "metadata": {},
   "outputs": [
    {
     "name": "stdout",
     "output_type": "stream",
     "text": [
      "[ inf -10.]\n",
      "[ inf -16.]\n",
      "[-10.  inf]\n",
      "[-14.  inf]\n",
      "[ inf -17.]\n",
      "[ inf -58.]\n",
      "[-12.  inf]\n",
      "[-11.  inf]\n",
      "[-10.  inf]\n",
      "[ inf -14.]\n",
      "[inf -9.]\n",
      "[inf -9.]\n",
      "[-10.  inf]\n",
      "[ inf -10.]\n",
      "[ inf -16.]\n",
      "[-13.  inf]\n"
     ]
    }
   ],
   "source": [
    "for i in range(2*N):\n",
    "    print(population.pop[i].factorial_cost)"
   ]
  },
  {
   "cell_type": "code",
   "execution_count": 8,
   "id": "e6347ec7",
   "metadata": {},
   "outputs": [],
   "source": [
    "population.sort()"
   ]
  },
  {
   "cell_type": "code",
   "execution_count": 9,
   "id": "54e70eb1",
   "metadata": {},
   "outputs": [],
   "source": [
    "t=0"
   ]
  },
  {
   "cell_type": "code",
   "execution_count": 10,
   "id": "6146bb7d",
   "metadata": {},
   "outputs": [],
   "source": [
    "for k in range(0,N, no_par):\n",
    "    no_p = np.min((N-k,no_par))\n",
    "    # learn rmp\n",
    "    subpops = population.get_subpops()\n",
    "    rmp_matrix = population.learn_rmp(subpops)\n",
    "    bl = np.random.normal(0.7, 0.1, size=(no_p, D))\n",
    "\n",
    "    parents = [population.pop[k+j] for j in range(no_p)]\n",
    "    same_sf = True\n",
    "    for i in range(no_p-1):\n",
    "        if parents[i].sf != parents[i+1].sf:\n",
    "            same_sf = False\n",
    "    \n",
    "    if same_sf:\n",
    "        cl = population.crossover_mul(parents,bl)\n",
    "        for i in range(no_p):\n",
    "            cl[i] = population.mutate(cl[i], mr)\n",
    "            cl[i].sf = parents[0].sf\n",
    "    elif np.random.rand()<rmp:\n",
    "        cl = population.crossover_mul(parents,bl)\n",
    "        for i in range(no_p):\n",
    "            cl[i] = population.mutate(cl[i], mr)\n",
    "\n",
    "            # assign random skill factor from parents to child\n",
    "            sf_assign = [p.sf for p in parents]\n",
    "            cl[i].sf = np.random.choice(sf_assign)"
   ]
  },
  {
   "cell_type": "code",
   "execution_count": 11,
   "id": "fb7e0433",
   "metadata": {},
   "outputs": [],
   "source": [
    "cl = population.crossover_mul(parents,bl)"
   ]
  },
  {
   "cell_type": "code",
   "execution_count": 24,
   "id": "10779b19",
   "metadata": {},
   "outputs": [],
   "source": [
    "for i in range(no_p):\n",
    "    cl[i] = population.mutate(cl[i], mr)\n",
    "    sf_assign = [p.sf for p in parents]\n",
    "    cl[i].sf = np.random.choice(sf_assign)"
   ]
  },
  {
   "cell_type": "code",
   "execution_count": 22,
   "id": "32fbbfc8",
   "metadata": {},
   "outputs": [
    {
     "data": {
      "text/plain": [
       "array([ 6,  5,  4,  6,  6,  5,  4, 14, 16, 17, 15, 15, 16, 17, 15, 11,  5,\n",
       "        5,  5,  4,  7,  6, 16, 15, 16, 16, 16, 16, 15, 16,  5,  4,  3,  4,\n",
       "        6, 13, 13, 13, 13, 12, 13,  4,  6,  2,  7,  4, 13, 13, 13, 12, 12,\n",
       "       12,  2,  0,  5,  6,  2, 13, 13, 13, 13, 13, 13,  3,  4,  1,  3,  1,\n",
       "       12, 13, 13, 12, 13, 13], dtype=int32)"
      ]
     },
     "execution_count": 22,
     "metadata": {},
     "output_type": "execute_result"
    }
   ],
   "source": [
    "cl[0].gene"
   ]
  },
  {
   "cell_type": "code",
   "execution_count": null,
   "id": "b98f9f0b",
   "metadata": {},
   "outputs": [],
   "source": []
  },
  {
   "cell_type": "code",
   "execution_count": null,
   "id": "bb2e7277",
   "metadata": {},
   "outputs": [],
   "source": [
    "     # crossover\n",
    "    if sf1 == sf2:\n",
    "        c1, c2 = population.onepoint_crossover(p1, p2)\n",
    "        c1 = population.mutate(c1, mr)\n",
    "        c2 = population.mutate(c2, mr)\n",
    "        # c1, c2 = variable_swap(c1, c2, pswap)\n",
    "        c1.sf = sf1\n",
    "        c2.sf = sf1\n",
    "    elif sf1 != sf2 and np.random.rand() < rmp:\n",
    "        c1, c2 = population.onepoint_crossover(p1, p2)\n",
    "        c1 = population.mutate(c1, mr)\n",
    "        c2 = population.mutate(c2, mr)\n",
    "        # c1, c2 = variable_swap(c1, c2, pswap)\n",
    "        if np.random.rand() < 0.5:\n",
    "            c1.sf = sf1\n",
    "        else:\n",
    "            c1.sf = sf2\n",
    "        if np.random.rand() < 0.5:\n",
    "            c2.sf = sf1\n",
    "        else:\n",
    "            c2.sf = sf2\n",
    "    else:\n",
    "        p2 = population.find_relative(sf1)\n",
    "\n",
    "        c1, c2 = population.onepoint_crossover(p1, p2)\n",
    "        c1 = population.mutate(c1, mr)\n",
    "        c2 = population.mutate(c2, mr)\n",
    "        # c1, c2 = variable_swap(c1, c2, pswap)\n",
    "        c1.sf = sf1\n",
    "        c2.sf = sf1\n",
    "\n",
    "    # replace parent with child\n",
    "    population.pop[N+i], population.pop[N+i+1] = c1, c2\n",
    "population.evaluate(envs)\n",
    "population.sort()\n",
    "xx ,b0 = population._get_best_individual_of_task(0)\n",
    "yy, b1 = population._get_best_individual_of_task(1)\n",
    "print(b0, b1)"
   ]
  },
  {
   "cell_type": "code",
   "execution_count": null,
   "id": "b9473d91",
   "metadata": {},
   "outputs": [],
   "source": []
  },
  {
   "cell_type": "code",
   "execution_count": null,
   "id": "44d1dcbf",
   "metadata": {},
   "outputs": [],
   "source": []
  },
  {
   "cell_type": "code",
   "execution_count": 29,
   "id": "64ed897d",
   "metadata": {},
   "outputs": [
    {
     "name": "stdout",
     "output_type": "stream",
     "text": [
      "[-77. -10.]\n",
      "[  inf -247.]\n",
      "[ inf -55.]\n",
      "[-77.  inf]\n",
      "[ inf -41.]\n",
      "[-77. -38.]\n",
      "[-46.  inf]\n",
      "[-12. -41.]\n",
      "[-46.  -9.]\n",
      "[-38.  inf]\n",
      "[ inf -32.]\n",
      "[ inf -17.]\n",
      "[-34.  inf]\n",
      "[ inf -16.]\n",
      "[-9. inf]\n",
      "[inf -9.]\n"
     ]
    }
   ],
   "source": [
    "for i in range(2*N):\n",
    "    print(population.pop[i].factorial_cost)"
   ]
  },
  {
   "cell_type": "code",
   "execution_count": 20,
   "id": "63a0591c",
   "metadata": {},
   "outputs": [
    {
     "name": "stdout",
     "output_type": "stream",
     "text": [
      "1\n",
      "1\n",
      "1\n",
      "0\n",
      "1\n",
      "1\n",
      "0\n",
      "0\n",
      "1\n",
      "0\n",
      "1\n",
      "1\n",
      "0\n",
      "1\n",
      "0\n",
      "1\n"
     ]
    }
   ],
   "source": [
    "for i in range(2*N):\n",
    "    print(population.pop[i].sf)"
   ]
  },
  {
   "cell_type": "code",
   "execution_count": 21,
   "id": "f355c1ab",
   "metadata": {},
   "outputs": [
    {
     "name": "stdout",
     "output_type": "stream",
     "text": [
      "1.0\n",
      "1.0\n",
      "0.5\n",
      "0.5\n",
      "0.3333333333333333\n",
      "0.3333333333333333\n",
      "0.25\n",
      "0.25\n",
      "0.2\n",
      "0.16666666666666666\n",
      "0.16666666666666666\n",
      "0.14285714285714285\n",
      "0.14285714285714285\n",
      "0.125\n",
      "0.1111111111111111\n",
      "0.1\n"
     ]
    }
   ],
   "source": [
    "for i in range(2*N):\n",
    "    print(population.pop[i].scalar_fitness)"
   ]
  },
  {
   "cell_type": "code",
   "execution_count": 26,
   "id": "91565734",
   "metadata": {},
   "outputs": [
    {
     "data": {
      "text/plain": [
       "array([-77., -10.])"
      ]
     },
     "execution_count": 26,
     "metadata": {},
     "output_type": "execute_result"
    }
   ],
   "source": [
    "pops = [p for p in population.pop if p.sf == 1]\n",
    "pops[0].factorial_cost"
   ]
  },
  {
   "cell_type": "code",
   "execution_count": 33,
   "id": "dba68fce",
   "metadata": {},
   "outputs": [
    {
     "data": {
      "text/plain": [
       "-10.0"
      ]
     },
     "execution_count": 33,
     "metadata": {},
     "output_type": "execute_result"
    }
   ],
   "source": [
    "agent = pops[0]\n",
    "sf = agent.sf\n",
    "result = envs.run_env(sf, agent)\n",
    "result"
   ]
  },
  {
   "cell_type": "code",
   "execution_count": null,
   "id": "23e330a3",
   "metadata": {},
   "outputs": [],
   "source": [
    "fc = [p.factorial_cost[1]]"
   ]
  },
  {
   "cell_type": "code",
   "execution_count": null,
   "id": "b7f01869",
   "metadata": {},
   "outputs": [],
   "source": []
  },
  {
   "cell_type": "code",
   "execution_count": 39,
   "id": "beb1be89",
   "metadata": {},
   "outputs": [
    {
     "data": {
      "text/plain": [
       "[array([-77., -10.]),\n",
       " array([  inf, -247.]),\n",
       " array([ inf, -55.]),\n",
       " array([-77.,  inf]),\n",
       " array([ inf, -41.]),\n",
       " array([-77., -38.]),\n",
       " array([-46.,  inf]),\n",
       " array([-12., -41.]),\n",
       " array([-46.,  -9.]),\n",
       " array([-38.,  inf]),\n",
       " array([ inf, -32.]),\n",
       " array([ inf, -17.]),\n",
       " array([-34.,  inf]),\n",
       " array([ inf, -16.]),\n",
       " array([-9., inf]),\n",
       " array([inf, -9.])]"
      ]
     },
     "execution_count": 39,
     "metadata": {},
     "output_type": "execute_result"
    }
   ],
   "source": [
    "no_pop = len(population.pop)\n",
    "fc = []\n",
    "for i in range(no_pop):\n",
    "    agent = population.pop[i]\n",
    "    sf = agent.sf\n",
    "    result = envs.run_env(sf, agent)\n",
    "    agent.factorial_cost[sf] = result\n",
    "    fc.append(agent.factorial_cost)\n",
    "fc"
   ]
  },
  {
   "cell_type": "code",
   "execution_count": 40,
   "id": "6d0f8461",
   "metadata": {},
   "outputs": [
    {
     "data": {
      "text/plain": [
       "array([[ 1,  9],\n",
       "       [10,  1],\n",
       "       [11,  2],\n",
       "       [ 2, 12],\n",
       "       [12,  3],\n",
       "       [ 3,  5],\n",
       "       [ 4, 13],\n",
       "       [ 8,  4],\n",
       "       [ 5, 10],\n",
       "       [ 6, 14],\n",
       "       [13,  6],\n",
       "       [14,  7],\n",
       "       [ 7, 15],\n",
       "       [15,  8],\n",
       "       [ 9, 16],\n",
       "       [16, 11]])"
      ]
     },
     "execution_count": 40,
     "metadata": {},
     "output_type": "execute_result"
    }
   ],
   "source": [
    "ranking = np.argsort(np.argsort(fc, axis=0), axis=0) + 1\n",
    "ranking"
   ]
  },
  {
   "cell_type": "code",
   "execution_count": 42,
   "id": "341cb527",
   "metadata": {},
   "outputs": [
    {
     "data": {
      "text/plain": [
       "array([0, 1, 1, 0, 1, 0, 0, 1, 0, 0, 1, 1, 0, 1, 0, 1])"
      ]
     },
     "execution_count": 42,
     "metadata": {},
     "output_type": "execute_result"
    }
   ],
   "source": [
    "np.argmin(ranking, axis=1)"
   ]
  },
  {
   "cell_type": "code",
   "execution_count": 43,
   "id": "32f88d06",
   "metadata": {},
   "outputs": [
    {
     "data": {
      "text/plain": [
       "array([1.        , 1.        , 0.5       , 0.5       , 0.33333333,\n",
       "       0.33333333, 0.25      , 0.25      , 0.2       , 0.16666667,\n",
       "       0.16666667, 0.14285714, 0.14285714, 0.125     , 0.11111111,\n",
       "       0.09090909])"
      ]
     },
     "execution_count": 43,
     "metadata": {},
     "output_type": "execute_result"
    }
   ],
   "source": [
    "1 / np.min(ranking, axis=1)"
   ]
  },
  {
   "cell_type": "code",
   "execution_count": 45,
   "id": "f54dfea1",
   "metadata": {},
   "outputs": [],
   "source": []
  },
  {
   "cell_type": "code",
   "execution_count": null,
   "id": "e480f6a4",
   "metadata": {},
   "outputs": [],
   "source": [
    "a"
   ]
  }
 ],
 "metadata": {
  "kernelspec": {
   "display_name": "Python 3",
   "language": "python",
   "name": "python3"
  },
  "language_info": {
   "codemirror_mode": {
    "name": "ipython",
    "version": 3
   },
   "file_extension": ".py",
   "mimetype": "text/x-python",
   "name": "python",
   "nbconvert_exporter": "python",
   "pygments_lexer": "ipython3",
   "version": "3.9.2"
  }
 },
 "nbformat": 4,
 "nbformat_minor": 5
}
